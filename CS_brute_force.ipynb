{
 "cells": [
  {
   "cell_type": "markdown",
   "id": "af9404f2",
   "metadata": {},
   "source": [
    "_Version log: TRUE AND ULTIMATE BRUTE FORCE_"
   ]
  },
  {
   "cell_type": "code",
   "execution_count": 31,
   "id": "ddbb7db1",
   "metadata": {},
   "outputs": [],
   "source": [
    "import sys, itertools, random, math\n",
    "import numpy as np\n",
    "import CS_functions as cs\n",
    "from tqdm import tqdm\n",
    "from matplotlib import pyplot as plt\n",
    "from scipy import fft as spfft\n",
    "\n",
    "plt.rcParams.update({'font.size':16})\n",
    "#np.set_printoptions(threshold=sys.maxsize)"
   ]
  },
  {
   "cell_type": "code",
   "execution_count": 32,
   "id": "531375fc",
   "metadata": {},
   "outputs": [],
   "source": [
    "# made by Thomas Lux on Stack Overflow\n",
    "# Return a randomized \"range\" using a Linear Congruential Generator\n",
    "# to produce the number sequence. Parameters are the same as for \n",
    "# python builtin \"range\".\n",
    "#   Memory  -- storage for 8 integers, regardless of parameters.\n",
    "#   Compute -- at most 2*\"maximum\" steps required to generate sequence.\n",
    "#\n",
    "def random_range(start, stop=None, step=None):\n",
    "    # Set a default values the same way \"range\" does.\n",
    "    if (stop == None): start, stop = 0, start\n",
    "    if (step == None): step = 1\n",
    "    # Use a mapping to convert a standard range into the desired range.\n",
    "    mapping = lambda i: (i*step) + start\n",
    "    # Compute the number of numbers in this range.\n",
    "    maximum = (stop - start) // step\n",
    "    # Seed range with a random integer.\n",
    "    value = random.randint(0, maximum-1)\n",
    "    # \n",
    "    # Construct an offset, multiplier, and modulus for a linear\n",
    "    # congruential generator. These generators are cyclic and\n",
    "    # non-repeating when they maintain the properties:\n",
    "    # \n",
    "    #   1) \"modulus\" and \"offset\" are relatively prime.\n",
    "    #   2) [\"multiplier\" - 1] is divisible by all prime factors of \"modulus\".\n",
    "    #   3) [\"multiplier\" - 1] is divisible by 4 if \"modulus\" is divisible by 4. #rule three seems a little arbitrary. Why does it matter and are there any other multiples that we need to watch out for?\n",
    "    # \n",
    "    offset = random.randint(0, maximum-1) * 2 + 1      # Pick a random odd-valued offset.\n",
    "    #multiplier = 4*(maximum//4) + 1                 # Pick a multiplier 1 greater than a multiple of 4.\n",
    "    modulus = int(2**math.ceil(math.log2(maximum))) # Pick a modulus just big enough to generate all numbers (power of 2).\n",
    "    # Track how many random numbers have been returned.\n",
    "    found = 0\n",
    "    while found < maximum:\n",
    "        # If this is a valid value, yield it in generator fashion.\n",
    "        if value < maximum:\n",
    "            found += 1\n",
    "            yield mapping(value)\n",
    "        # Calculate the next value in the sequence.\n",
    "        #value = (value*multiplier + offset) % modulus\n",
    "        value = (value +offset) % modulus #removing the multiplier makes it less random but more reliable for extremely large numbers (>1e13)\n",
    "    \n",
    "\n",
    "# made by openai (but debugged by me because robots are not taking over the world anytime soon!)\n",
    "def find_nth_combination(N, r, idx):\n",
    "    num_combinations = math.comb(N, r)\n",
    "    \n",
    "    if num_combinations <= idx :\n",
    "        raise ValueError(\"idx is larger than the total number of combinations\")\n",
    "    \n",
    "    result = []\n",
    "    n = 0\n",
    "    while r > 0:\n",
    "        num_combinations = math.comb(N -n -1, r - 1)\n",
    "        if num_combinations <= idx:\n",
    "            n += 1\n",
    "            idx -= num_combinations\n",
    "        else:\n",
    "            result.append(n)\n",
    "            n += 1\n",
    "            r -= 1\n",
    "        \n",
    "        if r == 0:\n",
    "            return tuple(result)\n",
    "    \n",
    "    return None\n"
   ]
  },
  {
   "cell_type": "code",
   "execution_count": 33,
   "id": "af9eddff",
   "metadata": {},
   "outputs": [],
   "source": [
    "file_name = \"1dmockanderrors15\"\n",
    "file_type = \".csv\"\n",
    "\n",
    "optlocs_file = \"data\\\\\" + file_name +\"_optlocs.csv\"\n",
    "target, uncertainties = cs.open_dataset(file_name, file_type)\n",
    "total_points = len(target)"
   ]
  },
  {
   "cell_type": "code",
   "execution_count": 34,
   "id": "ca80aaf5",
   "metadata": {},
   "outputs": [],
   "source": [
    "reduced_points = 6\n",
    "regularization_coeffient = 5e-4 # Should also be optimised. Unlike the detector locations, it is a continuous variable."
   ]
  },
  {
   "cell_type": "code",
   "execution_count": 35,
   "id": "070f6d8c",
   "metadata": {},
   "outputs": [
    {
     "name": "stdout",
     "output_type": "stream",
     "text": [
      "82408626300\n"
     ]
    }
   ],
   "source": [
    "################ INITIALISE AND RESET BRUTE FORCE ######################\n",
    "\n",
    "best_detectors = cs.subsample_1d(total_points, reduced_points, \"regular\")\n",
    "\n",
    "best_score = cs.evaluate_score(best_detectors, target, uncertainties, regularization_coeffient)\n",
    "\n",
    "combo_generator = (find_nth_combination(total_points, reduced_points, random_index) for random_index in random_range(math.comb(total_points, reduced_points)))\n",
    "print(math.comb(total_points, reduced_points))"
   ]
  },
  {
   "cell_type": "code",
   "execution_count": 36,
   "id": "7debf55c",
   "metadata": {},
   "outputs": [
    {
     "name": "stderr",
     "output_type": "stream",
     "text": [
      "13it [00:00, 101.51it/s]"
     ]
    },
    {
     "name": "stdout",
     "output_type": "stream",
     "text": [
      "new best saved!\n",
      "new best saved!\n"
     ]
    },
    {
     "name": "stderr",
     "output_type": "stream",
     "text": [
      "256it [00:01, 173.81it/s]"
     ]
    },
    {
     "name": "stdout",
     "output_type": "stream",
     "text": [
      "new best saved!\n"
     ]
    },
    {
     "name": "stderr",
     "output_type": "stream",
     "text": [
      "1066it [00:06, 185.76it/s]"
     ]
    },
    {
     "name": "stdout",
     "output_type": "stream",
     "text": [
      "new best saved!\n"
     ]
    },
    {
     "name": "stderr",
     "output_type": "stream",
     "text": [
      "1404it [00:07, 184.21it/s]"
     ]
    },
    {
     "name": "stdout",
     "output_type": "stream",
     "text": [
      "new best saved!\n"
     ]
    },
    {
     "name": "stderr",
     "output_type": "stream",
     "text": [
      "1738it [00:09, 180.30it/s]"
     ]
    },
    {
     "name": "stdout",
     "output_type": "stream",
     "text": [
      "new best saved!\n"
     ]
    },
    {
     "name": "stderr",
     "output_type": "stream",
     "text": [
      "14305it [01:16, 164.48it/s]"
     ]
    },
    {
     "name": "stdout",
     "output_type": "stream",
     "text": [
      "new best saved!\n"
     ]
    },
    {
     "name": "stderr",
     "output_type": "stream",
     "text": [
      "14908it [01:19, 181.43it/s]"
     ]
    },
    {
     "name": "stdout",
     "output_type": "stream",
     "text": [
      "new best saved!\n"
     ]
    },
    {
     "name": "stderr",
     "output_type": "stream",
     "text": [
      "44706it [04:06, 178.40it/s]"
     ]
    },
    {
     "name": "stdout",
     "output_type": "stream",
     "text": [
      "new best saved!\n"
     ]
    },
    {
     "name": "stderr",
     "output_type": "stream",
     "text": [
      "139983it [13:08, 140.36it/s]"
     ]
    },
    {
     "name": "stdout",
     "output_type": "stream",
     "text": [
      "new best saved!\n"
     ]
    },
    {
     "name": "stderr",
     "output_type": "stream",
     "text": [
      "306681it [28:55, 172.13it/s]"
     ]
    },
    {
     "name": "stdout",
     "output_type": "stream",
     "text": [
      "new best saved!\n"
     ]
    },
    {
     "name": "stderr",
     "output_type": "stream",
     "text": [
      "362501it [34:01, 164.26it/s]"
     ]
    },
    {
     "name": "stdout",
     "output_type": "stream",
     "text": [
      "new best saved!\n"
     ]
    },
    {
     "name": "stderr",
     "output_type": "stream",
     "text": [
      "459182it [42:52, 175.00it/s]"
     ]
    },
    {
     "name": "stdout",
     "output_type": "stream",
     "text": [
      "new best saved!\n"
     ]
    },
    {
     "name": "stderr",
     "output_type": "stream",
     "text": [
      "1121863it [1:42:33, 179.71it/s]"
     ]
    },
    {
     "name": "stdout",
     "output_type": "stream",
     "text": [
      "new best saved!\n"
     ]
    },
    {
     "name": "stderr",
     "output_type": "stream",
     "text": [
      "1183292it [1:47:43, 209.29it/s]"
     ]
    },
    {
     "name": "stdout",
     "output_type": "stream",
     "text": [
      "new best saved!\n"
     ]
    },
    {
     "name": "stderr",
     "output_type": "stream",
     "text": [
      "1392735it [2:04:58, 167.53it/s]"
     ]
    },
    {
     "name": "stdout",
     "output_type": "stream",
     "text": [
      "new best saved!\n"
     ]
    },
    {
     "name": "stderr",
     "output_type": "stream",
     "text": [
      "12127661it [17:17:29, 194.82it/s]\n"
     ]
    },
    {
     "ename": "KeyboardInterrupt",
     "evalue": "",
     "output_type": "error",
     "traceback": [
      "\u001b[1;31m---------------------------------------------------------------------------\u001b[0m",
      "\u001b[1;31mKeyboardInterrupt\u001b[0m                         Traceback (most recent call last)",
      "Cell \u001b[1;32mIn[36], line 6\u001b[0m\n\u001b[0;32m      3\u001b[0m \u001b[38;5;28;01mfor\u001b[39;00m detectors \u001b[38;5;129;01min\u001b[39;00m tqdm(combo_generator): \u001b[38;5;66;03m# THIS ITERABLE IS DANGEROUS!\u001b[39;00m\n\u001b[0;32m      4\u001b[0m     detectors \u001b[38;5;241m=\u001b[39m np\u001b[38;5;241m.\u001b[39marray(detectors)\n\u001b[1;32m----> 6\u001b[0m     score \u001b[38;5;241m=\u001b[39m \u001b[43mcs\u001b[49m\u001b[38;5;241;43m.\u001b[39;49m\u001b[43mevaluate_score\u001b[49m\u001b[43m(\u001b[49m\u001b[43mdetectors\u001b[49m\u001b[43m,\u001b[49m\u001b[43m \u001b[49m\u001b[43mtarget\u001b[49m\u001b[43m,\u001b[49m\u001b[43m \u001b[49m\u001b[43muncertainties\u001b[49m\u001b[43m,\u001b[49m\u001b[43m \u001b[49m\u001b[43mregularization_coeffient\u001b[49m\u001b[43m)\u001b[49m\n\u001b[0;32m      8\u001b[0m     \u001b[38;5;28;01mif\u001b[39;00m score \u001b[38;5;241m<\u001b[39m best_score:\n\u001b[0;32m      9\u001b[0m         best_score \u001b[38;5;241m=\u001b[39m score\n",
      "File \u001b[1;32mc:\\Users\\syf83691\\OneDrive - Science and Technology Facilities Council\\Documents\\python\\git_projects\\THz-Compressed-Sensing\\CS_functions.py:97\u001b[0m, in \u001b[0;36mevaluate_score\u001b[1;34m(detectors, targets, targets_uncertainty, regularization_coeffient)\u001b[0m\n\u001b[0;32m     95\u001b[0m sample \u001b[38;5;241m=\u001b[39m np\u001b[38;5;241m.\u001b[39mfull_like(target, np\u001b[38;5;241m.\u001b[39mnan)\n\u001b[0;32m     96\u001b[0m sample[detectors] \u001b[38;5;241m=\u001b[39m target[detectors]\n\u001b[1;32m---> 97\u001b[0m result \u001b[38;5;241m=\u001b[39m \u001b[43mcompressed_sensing\u001b[49m\u001b[43m(\u001b[49m\u001b[43msample\u001b[49m\u001b[43m,\u001b[49m\u001b[43m \u001b[49m\u001b[43mregularization_coeffient\u001b[49m\u001b[43m)\u001b[49m\n\u001b[0;32m     98\u001b[0m chi_square \u001b[38;5;241m=\u001b[39m np\u001b[38;5;241m.\u001b[39mlinalg\u001b[38;5;241m.\u001b[39mnorm((target \u001b[38;5;241m-\u001b[39mresult) \u001b[38;5;241m/\u001b[39muncertainty) \u001b[38;5;66;03m#This is the chi-squared\u001b[39;00m\n\u001b[0;32m     99\u001b[0m \u001b[38;5;28;01mif\u001b[39;00m chi_square \u001b[38;5;241m>\u001b[39m score:\n",
      "File \u001b[1;32mc:\\Users\\syf83691\\OneDrive - Science and Technology Facilities Council\\Documents\\python\\git_projects\\THz-Compressed-Sensing\\CS_functions.py:37\u001b[0m, in \u001b[0;36mcompressed_sensing\u001b[1;34m(samples, alpha, domain)\u001b[0m\n\u001b[0;32m     35\u001b[0m cropping_matrix \u001b[38;5;241m=\u001b[39m cropping_matrix[locations] \u001b[38;5;66;03m#cropping matrix operator\u001b[39;00m\n\u001b[0;32m     36\u001b[0m dct_matrix \u001b[38;5;241m=\u001b[39m spfft\u001b[38;5;241m.\u001b[39midct(np\u001b[38;5;241m.\u001b[39midentity(total_points), axis\u001b[38;5;241m=\u001b[39m \u001b[38;5;241m0\u001b[39m, norm\u001b[38;5;241m=\u001b[39m \u001b[38;5;124m\"\u001b[39m\u001b[38;5;124mforward\u001b[39m\u001b[38;5;124m\"\u001b[39m)\n\u001b[1;32m---> 37\u001b[0m measurement_matrix \u001b[38;5;241m=\u001b[39m \u001b[43mnp\u001b[49m\u001b[38;5;241;43m.\u001b[39;49m\u001b[43mmatmul\u001b[49m\u001b[43m(\u001b[49m\u001b[43mcropping_matrix\u001b[49m\u001b[43m,\u001b[49m\u001b[43m \u001b[49m\u001b[43mdct_matrix\u001b[49m\u001b[43m)\u001b[49m\n\u001b[0;32m     39\u001b[0m lasso \u001b[38;5;241m=\u001b[39m Lasso(alpha\u001b[38;5;241m=\u001b[39m alpha)\n\u001b[0;32m     40\u001b[0m lasso\u001b[38;5;241m.\u001b[39mfit(measurement_matrix, samples[locations])\n",
      "\u001b[1;31mKeyboardInterrupt\u001b[0m: "
     ]
    }
   ],
   "source": [
    "################# TRUE BRUTE FORCE ####################\n",
    "\n",
    "for detectors in tqdm(combo_generator): # THIS ITERABLE IS DANGEROUS!\n",
    "    detectors = np.array(detectors)\n",
    "\n",
    "    score = cs.evaluate_score(detectors, target, uncertainties, regularization_coeffient)\n",
    "\n",
    "    if score < best_score:\n",
    "        best_score = score\n",
    "        cs.append_array_to_csv(detectors, optlocs_file)\n",
    "        print(\"new best saved!\")"
   ]
  },
  {
   "cell_type": "code",
   "execution_count": null,
   "id": "eb56941d",
   "metadata": {},
   "outputs": [],
   "source": []
  }
 ],
 "metadata": {
  "kernelspec": {
   "display_name": "Python 3",
   "language": "python",
   "name": "python3"
  },
  "language_info": {
   "codemirror_mode": {
    "name": "ipython",
    "version": 3
   },
   "file_extension": ".py",
   "mimetype": "text/x-python",
   "name": "python",
   "nbconvert_exporter": "python",
   "pygments_lexer": "ipython3",
   "version": "3.11.9"
  }
 },
 "nbformat": 4,
 "nbformat_minor": 5
}
