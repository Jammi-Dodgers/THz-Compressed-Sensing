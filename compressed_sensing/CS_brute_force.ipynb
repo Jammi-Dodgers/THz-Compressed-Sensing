{
 "cells": [
  {
   "cell_type": "markdown",
   "id": "af9404f2",
   "metadata": {},
   "source": [
    "_Version log: TRUE AND ULTIMATE BRUTE FORCE_"
   ]
  },
  {
   "cell_type": "code",
   "execution_count": 73,
   "id": "ddbb7db1",
   "metadata": {},
   "outputs": [],
   "source": [
    "import sys, itertools, random, math\n",
    "import numpy as np\n",
    "import CS_functions as cs\n",
    "from tqdm import tqdm\n",
    "from matplotlib import pyplot as plt\n",
    "from scipy import fft as spfft\n",
    "\n",
    "plt.rcParams.update({'font.size':16})\n",
    "#np.set_printoptions(threshold=sys.maxsize)"
   ]
  },
  {
   "cell_type": "code",
   "execution_count": 74,
   "id": "531375fc",
   "metadata": {},
   "outputs": [],
   "source": [
    "# made by Thomas Lux on Stack Overflow\n",
    "# Return a randomized \"range\" using a Linear Congruential Generator\n",
    "# to produce the number sequence. Parameters are the same as for \n",
    "# python builtin \"range\".\n",
    "#   Memory  -- storage for 8 integers, regardless of parameters.\n",
    "#   Compute -- at most 2*\"maximum\" steps required to generate sequence.\n",
    "#\n",
    "def random_range(start, stop=None, step=None):\n",
    "    # Set a default values the same way \"range\" does.\n",
    "    if (stop == None): start, stop = 0, start\n",
    "    if (step == None): step = 1\n",
    "    # Use a mapping to convert a standard range into the desired range.\n",
    "    mapping = lambda i: (i*step) + start\n",
    "    # Compute the number of numbers in this range.\n",
    "    maximum = (stop - start) // step\n",
    "    # Seed range with a random integer.\n",
    "    value = random.randint(0, maximum-1)\n",
    "    # \n",
    "    # Construct an offset, multiplier, and modulus for a linear\n",
    "    # congruential generator. These generators are cyclic and\n",
    "    # non-repeating when they maintain the properties:\n",
    "    # \n",
    "    #   1) \"modulus\" and \"offset\" are relatively prime.\n",
    "    #   2) [\"multiplier\" - 1] is divisible by all prime factors of \"modulus\".\n",
    "    #   3) [\"multiplier\" - 1] is divisible by 4 if \"modulus\" is divisible by 4. #rule three seems a little arbitrary. Why does it matter and are there any other multiples that we need to watch out for?\n",
    "    # \n",
    "    offset = random.randint(0, maximum-1) * 2 + 1      # Pick a random odd-valued offset.\n",
    "    #multiplier = 4*(maximum//4) + 1                 # Pick a multiplier 1 greater than a multiple of 4.\n",
    "    modulus = int(2**math.ceil(math.log2(maximum))) # Pick a modulus just big enough to generate all numbers (power of 2).\n",
    "    # Track how many random numbers have been returned.\n",
    "    found = 0\n",
    "    while found < maximum:\n",
    "        # If this is a valid value, yield it in generator fashion.\n",
    "        if value < maximum:\n",
    "            found += 1\n",
    "            yield mapping(value)\n",
    "        # Calculate the next value in the sequence.\n",
    "        #value = (value*multiplier + offset) % modulus\n",
    "        value = (value +offset) % modulus #removing the multiplier makes it less random but more reliable for extremely large numbers (>1e13)\n",
    "    \n",
    "\n",
    "# made by openai (but debugged by me because robots are not taking over the world anytime soon!)\n",
    "def find_nth_combination(N, r, idx):\n",
    "    num_combinations = math.comb(N, r)\n",
    "    \n",
    "    if num_combinations <= idx :\n",
    "        raise ValueError(\"idx is larger than the total number of combinations\")\n",
    "    \n",
    "    result = []\n",
    "    n = 0\n",
    "    while r > 0:\n",
    "        num_combinations = math.comb(N -n -1, r - 1)\n",
    "        if num_combinations <= idx:\n",
    "            n += 1\n",
    "            idx -= num_combinations\n",
    "        else:\n",
    "            result.append(n)\n",
    "            n += 1\n",
    "            r -= 1\n",
    "        \n",
    "        if r == 0:\n",
    "            return tuple(result)\n",
    "    \n",
    "    return None\n"
   ]
  },
  {
   "cell_type": "code",
   "execution_count": 75,
   "id": "af9eddff",
   "metadata": {},
   "outputs": [],
   "source": [
    "file_name = \"1dmockanderrors12\"\n",
    "file_type = \".csv\"\n",
    "\n",
    "optlocs_file = \"data\\\\\" + file_name +\"_optlocs.csv\"\n",
    "target, uncertainties = cs.open_dataset(file_name, file_type)\n",
    "total_points = len(target)"
   ]
  },
  {
   "cell_type": "code",
   "execution_count": 76,
   "id": "ca80aaf5",
   "metadata": {},
   "outputs": [],
   "source": [
    "reduced_points = 4\n",
    "regularization_coeffient = 1e-4\n",
    "\n",
    "#initial_detectors = [] #custom\n",
    "initial_detectors = cs.subsample_1d(total_points, reduced_points, subsampling_method= \"centered\")"
   ]
  },
  {
   "cell_type": "code",
   "execution_count": 77,
   "id": "070f6d8c",
   "metadata": {},
   "outputs": [],
   "source": [
    "################ INITIALISE AND RESET BRUTE FORCE ######################\n",
    "\n",
    "best_detectors = cs.subsample_1d(total_points, reduced_points, \"regular\")\n",
    "best_result = cs.compressed_sensing(target[best_detectors], best_detectors, total_points, regularization_coeffient)\n",
    "best_score = np.linalg.norm((target -best_result) /uncertainties)\n",
    "\n",
    "combo_generator = (find_nth_combination(total_points, reduced_points, random_index) for random_index in random_range(math.comb(total_points, reduced_points)))"
   ]
  },
  {
   "cell_type": "code",
   "execution_count": 78,
   "id": "7debf55c",
   "metadata": {},
   "outputs": [
    {
     "name": "stderr",
     "output_type": "stream",
     "text": [
      "12it [00:00, 118.81it/s]"
     ]
    },
    {
     "name": "stdout",
     "output_type": "stream",
     "text": [
      "new best saved!\n",
      "new best saved!\n"
     ]
    },
    {
     "name": "stderr",
     "output_type": "stream",
     "text": [
      "34it [00:00, 67.71it/s] "
     ]
    },
    {
     "name": "stdout",
     "output_type": "stream",
     "text": [
      "new best saved!\n",
      "new best saved!\n"
     ]
    },
    {
     "name": "stderr",
     "output_type": "stream",
     "text": [
      "111it [00:00, 138.18it/s]"
     ]
    },
    {
     "name": "stdout",
     "output_type": "stream",
     "text": [
      "new best saved!\n",
      "new best saved!\n"
     ]
    },
    {
     "name": "stderr",
     "output_type": "stream",
     "text": [
      "182it [00:01, 158.09it/s]"
     ]
    },
    {
     "name": "stdout",
     "output_type": "stream",
     "text": [
      "new best saved!\n",
      "new best saved!\n"
     ]
    },
    {
     "name": "stderr",
     "output_type": "stream",
     "text": [
      "285it [00:02, 150.13it/s]"
     ]
    },
    {
     "name": "stdout",
     "output_type": "stream",
     "text": [
      "new best saved!\n",
      "new best saved!\n"
     ]
    },
    {
     "name": "stderr",
     "output_type": "stream",
     "text": [
      "459it [00:03, 167.68it/s]"
     ]
    },
    {
     "name": "stdout",
     "output_type": "stream",
     "text": [
      "new best saved!\n"
     ]
    },
    {
     "name": "stderr",
     "output_type": "stream",
     "text": [
      "4396it [00:26, 167.07it/s]"
     ]
    },
    {
     "name": "stdout",
     "output_type": "stream",
     "text": [
      "new best saved!\n",
      "new best saved!\n"
     ]
    },
    {
     "name": "stderr",
     "output_type": "stream",
     "text": [
      "7294it [00:44, 165.90it/s]"
     ]
    },
    {
     "name": "stdout",
     "output_type": "stream",
     "text": [
      "new best saved!\n"
     ]
    },
    {
     "name": "stderr",
     "output_type": "stream",
     "text": [
      "9238it [00:57, 162.70it/s]"
     ]
    },
    {
     "name": "stdout",
     "output_type": "stream",
     "text": [
      "new best saved!\n"
     ]
    },
    {
     "name": "stderr",
     "output_type": "stream",
     "text": [
      "14311it [01:28, 175.37it/s]"
     ]
    },
    {
     "name": "stdout",
     "output_type": "stream",
     "text": [
      "new best saved!\n"
     ]
    },
    {
     "name": "stderr",
     "output_type": "stream",
     "text": [
      "38372it [04:02, 161.40it/s]"
     ]
    },
    {
     "name": "stdout",
     "output_type": "stream",
     "text": [
      "new best saved!\n"
     ]
    },
    {
     "name": "stderr",
     "output_type": "stream",
     "text": [
      "117744it [12:03, 169.25it/s]"
     ]
    },
    {
     "name": "stdout",
     "output_type": "stream",
     "text": [
      "new best saved!\n"
     ]
    },
    {
     "name": "stderr",
     "output_type": "stream",
     "text": [
      "279494it [27:27, 178.08it/s]"
     ]
    },
    {
     "name": "stdout",
     "output_type": "stream",
     "text": [
      "new best saved!\n"
     ]
    },
    {
     "name": "stderr",
     "output_type": "stream",
     "text": [
      "610620it [59:02, 174.07it/s]"
     ]
    },
    {
     "name": "stdout",
     "output_type": "stream",
     "text": [
      "new best saved!\n"
     ]
    },
    {
     "name": "stderr",
     "output_type": "stream",
     "text": [
      "933584it [1:29:36, 173.54it/s]"
     ]
    },
    {
     "name": "stdout",
     "output_type": "stream",
     "text": [
      "new best saved!\n"
     ]
    },
    {
     "name": "stderr",
     "output_type": "stream",
     "text": [
      "26688343it [43:07:28, 155.08it/s]"
     ]
    },
    {
     "name": "stdout",
     "output_type": "stream",
     "text": [
      "new best saved!\n"
     ]
    },
    {
     "name": "stderr",
     "output_type": "stream",
     "text": [
      "27343349it [44:11:02, 154.22it/s]"
     ]
    }
   ],
   "source": [
    "################# TRUE BRUTE FORCE ####################\n",
    "\n",
    "for detectors in tqdm(combo_generator): # THIS ITERABLE IS DANGEROUS!\n",
    "    detectors = np.array(detectors)\n",
    "    result = cs.compressed_sensing(target[detectors], detectors, total_points, regularization_coeffient)\n",
    "    score = np.linalg.norm((target -result) /uncertainties)\n",
    "\n",
    "    if score < best_score:\n",
    "        best_score = score\n",
    "        cs.append_array_to_csv(detectors, optlocs_file)\n",
    "        print(\"new best saved!\")"
   ]
  },
  {
   "cell_type": "code",
   "execution_count": null,
   "id": "eb56941d",
   "metadata": {},
   "outputs": [],
   "source": []
  }
 ],
 "metadata": {
  "kernelspec": {
   "display_name": "Python 3",
   "language": "python",
   "name": "python3"
  },
  "language_info": {
   "codemirror_mode": {
    "name": "ipython",
    "version": 3
   },
   "file_extension": ".py",
   "mimetype": "text/x-python",
   "name": "python",
   "nbconvert_exporter": "python",
   "pygments_lexer": "ipython3",
   "version": "3.11.9"
  }
 },
 "nbformat": 4,
 "nbformat_minor": 5
}
