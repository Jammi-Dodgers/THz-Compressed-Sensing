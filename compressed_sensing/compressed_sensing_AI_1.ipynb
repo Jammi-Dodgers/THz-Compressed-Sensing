{
 "cells": [
  {
   "cell_type": "markdown",
   "metadata": {},
   "source": [
    "_Version Log: using openai to understand compressed sensing in python_"
   ]
  },
  {
   "cell_type": "code",
   "execution_count": 2,
   "metadata": {},
   "outputs": [
    {
     "ename": "NameError",
     "evalue": "name 'X' is not defined",
     "output_type": "error",
     "traceback": [
      "\u001b[1;31m---------------------------------------------------------------------------\u001b[0m",
      "\u001b[1;31mNameError\u001b[0m                                 Traceback (most recent call last)",
      "\u001b[1;32mc:\\Users\\syf83691\\OneDrive - Science and Technology Facilities Council\\Documents\\python\\interferometry\\compressed_sensing.ipynb Cell 2\u001b[0m line \u001b[0;36m7\n\u001b[0;32m      <a href='vscode-notebook-cell:/c%3A/Users/syf83691/OneDrive%20-%20Science%20and%20Technology%20Facilities%20Council/Documents/python/interferometry/compressed_sensing.ipynb#W0sZmlsZQ%3D%3D?line=3'>4</a>\u001b[0m lasso \u001b[39m=\u001b[39m Lasso(alpha\u001b[39m=\u001b[39m\u001b[39m0.01\u001b[39m)  \u001b[39m# Adjust the alpha parameter for L1 regularization strength\u001b[39;00m\n\u001b[0;32m      <a href='vscode-notebook-cell:/c%3A/Users/syf83691/OneDrive%20-%20Science%20and%20Technology%20Facilities%20Council/Documents/python/interferometry/compressed_sensing.ipynb#W0sZmlsZQ%3D%3D?line=5'>6</a>\u001b[0m \u001b[39m# Fit the model to your data\u001b[39;00m\n\u001b[1;32m----> <a href='vscode-notebook-cell:/c%3A/Users/syf83691/OneDrive%20-%20Science%20and%20Technology%20Facilities%20Council/Documents/python/interferometry/compressed_sensing.ipynb#W0sZmlsZQ%3D%3D?line=6'>7</a>\u001b[0m lasso\u001b[39m.\u001b[39mfit(X, y)  \u001b[39m# X is your measurement matrix, y is the observed signal\u001b[39;00m\n\u001b[0;32m      <a href='vscode-notebook-cell:/c%3A/Users/syf83691/OneDrive%20-%20Science%20and%20Technology%20Facilities%20Council/Documents/python/interferometry/compressed_sensing.ipynb#W0sZmlsZQ%3D%3D?line=8'>9</a>\u001b[0m \u001b[39m# Get the estimated sparse signal\u001b[39;00m\n\u001b[0;32m     <a href='vscode-notebook-cell:/c%3A/Users/syf83691/OneDrive%20-%20Science%20and%20Technology%20Facilities%20Council/Documents/python/interferometry/compressed_sensing.ipynb#W0sZmlsZQ%3D%3D?line=9'>10</a>\u001b[0m sparse_signal \u001b[39m=\u001b[39m lasso\u001b[39m.\u001b[39mcoef_\n",
      "\u001b[1;31mNameError\u001b[0m: name 'X' is not defined"
     ]
    }
   ],
   "source": [
    "from sklearn.linear_model import Lasso\n",
    "\n",
    "# Create a Lasso model\n",
    "lasso = Lasso(alpha=0.01)  # Adjust the alpha parameter for L1 regularization strength\n",
    "\n",
    "# Fit the model to your data\n",
    "lasso.fit(X, y)  # X is your measurement matrix, y is the observed signal\n",
    "\n",
    "# Get the estimated sparse signal\n",
    "sparse_signal = lasso.coef_\n"
   ]
  }
 ],
 "metadata": {
  "kernelspec": {
   "display_name": "Python 3",
   "language": "python",
   "name": "python3"
  },
  "language_info": {
   "codemirror_mode": {
    "name": "ipython",
    "version": 3
   },
   "file_extension": ".py",
   "mimetype": "text/x-python",
   "name": "python",
   "nbconvert_exporter": "python",
   "pygments_lexer": "ipython3",
   "version": "3.11.6"
  }
 },
 "nbformat": 4,
 "nbformat_minor": 2
}
